{
 "cells": [
  {
   "cell_type": "markdown",
   "metadata": {},
   "source": [
    "# AI-HUB dataset 을 사용한 YOLOv8seg 훈련 코드\n",
    "\n",
    "* 학습 결과가 만족스럽지 않아서 실제로 사용하지 않았음. \n",
    "* 관련 data link [구글 드라이브](https://drive.google.com/drive/folders/1K5SD8xdr3LdeN_-mSGGogX3l2CAZf95T?usp=drive_link)"
   ]
  },
  {
   "cell_type": "code",
   "execution_count": 1,
   "metadata": {},
   "outputs": [
    {
     "name": "stderr",
     "output_type": "stream",
     "text": [
      "c:\\Users\\gon\\anaconda3\\envs\\py10_torch\\lib\\site-packages\\tqdm\\auto.py:21: TqdmWarning: IProgress not found. Please update jupyter and ipywidgets. See https://ipywidgets.readthedocs.io/en/stable/user_install.html\n",
      "  from .autonotebook import tqdm as notebook_tqdm\n"
     ]
    }
   ],
   "source": [
    "import torch\n",
    "\n",
    "torch.cuda.empty_cache()"
   ]
  },
  {
   "cell_type": "code",
   "execution_count": 6,
   "metadata": {},
   "outputs": [
    {
     "name": "stdout",
     "output_type": "stream",
     "text": [
      "Requirement already satisfied: ultralytics in c:\\users\\gon\\anaconda3\\envs\\py10_torch\\lib\\site-packages (8.2.77)\n",
      "Collecting ultralytics\n",
      "  Using cached ultralytics-8.2.87-py3-none-any.whl.metadata (41 kB)\n",
      "Requirement already satisfied: numpy<2.0.0,>=1.23.0 in c:\\users\\gon\\anaconda3\\envs\\py10_torch\\lib\\site-packages (from ultralytics) (1.26.4)\n",
      "Requirement already satisfied: matplotlib>=3.3.0 in c:\\users\\gon\\anaconda3\\envs\\py10_torch\\lib\\site-packages (from ultralytics) (3.9.2)\n",
      "Requirement already satisfied: opencv-python>=4.6.0 in c:\\users\\gon\\anaconda3\\envs\\py10_torch\\lib\\site-packages (from ultralytics) (4.10.0.84)\n",
      "Requirement already satisfied: pillow>=7.1.2 in c:\\users\\gon\\anaconda3\\envs\\py10_torch\\lib\\site-packages (from ultralytics) (10.3.0)\n",
      "Requirement already satisfied: pyyaml>=5.3.1 in c:\\users\\gon\\anaconda3\\envs\\py10_torch\\lib\\site-packages (from ultralytics) (6.0.1)\n",
      "Requirement already satisfied: requests>=2.23.0 in c:\\users\\gon\\anaconda3\\envs\\py10_torch\\lib\\site-packages (from ultralytics) (2.31.0)\n",
      "Requirement already satisfied: scipy>=1.4.1 in c:\\users\\gon\\anaconda3\\envs\\py10_torch\\lib\\site-packages (from ultralytics) (1.14.0)\n",
      "Requirement already satisfied: torch>=1.8.0 in c:\\users\\gon\\anaconda3\\envs\\py10_torch\\lib\\site-packages (from ultralytics) (1.12.1+cu113)\n",
      "Requirement already satisfied: torchvision>=0.9.0 in c:\\users\\gon\\anaconda3\\envs\\py10_torch\\lib\\site-packages (from ultralytics) (0.13.1+cu113)\n",
      "Requirement already satisfied: tqdm>=4.64.0 in c:\\users\\gon\\anaconda3\\envs\\py10_torch\\lib\\site-packages (from ultralytics) (4.66.5)\n",
      "Requirement already satisfied: psutil in c:\\users\\gon\\anaconda3\\envs\\py10_torch\\lib\\site-packages (from ultralytics) (5.9.8)\n",
      "Requirement already satisfied: py-cpuinfo in c:\\users\\gon\\anaconda3\\envs\\py10_torch\\lib\\site-packages (from ultralytics) (9.0.0)\n",
      "Requirement already satisfied: pandas>=1.1.4 in c:\\users\\gon\\anaconda3\\envs\\py10_torch\\lib\\site-packages (from ultralytics) (2.2.2)\n",
      "Requirement already satisfied: seaborn>=0.11.0 in c:\\users\\gon\\anaconda3\\envs\\py10_torch\\lib\\site-packages (from ultralytics) (0.13.2)\n",
      "Requirement already satisfied: ultralytics-thop>=2.0.0 in c:\\users\\gon\\anaconda3\\envs\\py10_torch\\lib\\site-packages (from ultralytics) (2.0.0)\n",
      "Requirement already satisfied: contourpy>=1.0.1 in c:\\users\\gon\\anaconda3\\envs\\py10_torch\\lib\\site-packages (from matplotlib>=3.3.0->ultralytics) (1.2.1)\n",
      "Requirement already satisfied: cycler>=0.10 in c:\\users\\gon\\anaconda3\\envs\\py10_torch\\lib\\site-packages (from matplotlib>=3.3.0->ultralytics) (0.12.1)\n",
      "Requirement already satisfied: fonttools>=4.22.0 in c:\\users\\gon\\anaconda3\\envs\\py10_torch\\lib\\site-packages (from matplotlib>=3.3.0->ultralytics) (4.53.1)\n",
      "Requirement already satisfied: kiwisolver>=1.3.1 in c:\\users\\gon\\anaconda3\\envs\\py10_torch\\lib\\site-packages (from matplotlib>=3.3.0->ultralytics) (1.4.5)\n",
      "Requirement already satisfied: packaging>=20.0 in c:\\users\\gon\\anaconda3\\envs\\py10_torch\\lib\\site-packages (from matplotlib>=3.3.0->ultralytics) (24.0)\n",
      "Requirement already satisfied: pyparsing>=2.3.1 in c:\\users\\gon\\anaconda3\\envs\\py10_torch\\lib\\site-packages (from matplotlib>=3.3.0->ultralytics) (3.1.2)\n",
      "Requirement already satisfied: python-dateutil>=2.7 in c:\\users\\gon\\anaconda3\\envs\\py10_torch\\lib\\site-packages (from matplotlib>=3.3.0->ultralytics) (2.9.0.post0)\n",
      "Requirement already satisfied: pytz>=2020.1 in c:\\users\\gon\\anaconda3\\envs\\py10_torch\\lib\\site-packages (from pandas>=1.1.4->ultralytics) (2024.1)\n",
      "Requirement already satisfied: tzdata>=2022.7 in c:\\users\\gon\\anaconda3\\envs\\py10_torch\\lib\\site-packages (from pandas>=1.1.4->ultralytics) (2024.1)\n",
      "Requirement already satisfied: charset-normalizer<4,>=2 in c:\\users\\gon\\anaconda3\\envs\\py10_torch\\lib\\site-packages (from requests>=2.23.0->ultralytics) (3.3.2)\n",
      "Requirement already satisfied: idna<4,>=2.5 in c:\\users\\gon\\anaconda3\\envs\\py10_torch\\lib\\site-packages (from requests>=2.23.0->ultralytics) (3.7)\n",
      "Requirement already satisfied: urllib3<3,>=1.21.1 in c:\\users\\gon\\anaconda3\\envs\\py10_torch\\lib\\site-packages (from requests>=2.23.0->ultralytics) (2.2.1)\n",
      "Requirement already satisfied: certifi>=2017.4.17 in c:\\users\\gon\\anaconda3\\envs\\py10_torch\\lib\\site-packages (from requests>=2.23.0->ultralytics) (2024.2.2)\n",
      "Requirement already satisfied: typing-extensions in c:\\users\\gon\\anaconda3\\envs\\py10_torch\\lib\\site-packages (from torch>=1.8.0->ultralytics) (4.11.0)\n",
      "Requirement already satisfied: colorama in c:\\users\\gon\\anaconda3\\envs\\py10_torch\\lib\\site-packages (from tqdm>=4.64.0->ultralytics) (0.4.6)\n",
      "Requirement already satisfied: six>=1.5 in c:\\users\\gon\\anaconda3\\envs\\py10_torch\\lib\\site-packages (from python-dateutil>=2.7->matplotlib>=3.3.0->ultralytics) (1.16.0)\n",
      "Using cached ultralytics-8.2.87-py3-none-any.whl (872 kB)\n",
      "Installing collected packages: ultralytics\n",
      "  Attempting uninstall: ultralytics\n",
      "    Found existing installation: ultralytics 8.2.77\n",
      "    Uninstalling ultralytics-8.2.77:\n",
      "      Successfully uninstalled ultralytics-8.2.77\n",
      "Successfully installed ultralytics-8.2.87\n"
     ]
    }
   ],
   "source": [
    "!pip install --upgrade ultralytics"
   ]
  },
  {
   "cell_type": "markdown",
   "metadata": {},
   "source": [
    "### Train image 이미지의 1/4 만 학습할수 있도록 copy"
   ]
  },
  {
   "cell_type": "code",
   "execution_count": 16,
   "metadata": {},
   "outputs": [
    {
     "name": "stdout",
     "output_type": "stream",
     "text": [
      "Subset dataset created with 58523 images.\n"
     ]
    }
   ],
   "source": [
    "import os\n",
    "import shutil\n",
    "import random\n",
    "\n",
    "import os\n",
    "import shutil\n",
    "import random\n",
    "\n",
    "# Define the paths for your original and new subset datasets\n",
    "original_dataset_dir = 'YOLODataset/images/train'\n",
    "subset_dataset_dir = 'YOLODataset/subImages/train'\n",
    "\n",
    "# Get all image filenames from the original dataset directory\n",
    "all_images = os.listdir(original_dataset_dir)\n",
    "\n",
    "# Determine the subset size (1/4 of the dataset)\n",
    "subset_size = int(len(all_images) * 0.25)\n",
    "\n",
    "# Randomly sample 1/4 of the images\n",
    "subset_images = random.sample(all_images, subset_size)\n",
    "\n",
    "# Create a new directory for the subset dataset\n",
    "os.makedirs(subset_dataset_dir, exist_ok=True)\n",
    "\n",
    "# Copy the randomly selected images to the new subset dataset directory\n",
    "for image in subset_images:\n",
    "    shutil.copy(os.path.join(original_dataset_dir, image), subset_dataset_dir)\n",
    "\n",
    "print(f\"Subset dataset created with {len(subset_images)} images.\")"
   ]
  },
  {
   "cell_type": "markdown",
   "metadata": {},
   "source": [
    "### Train image 이미지의 1/4 만 valid 할 수 있도록 copy"
   ]
  },
  {
   "cell_type": "code",
   "execution_count": 9,
   "metadata": {},
   "outputs": [],
   "source": [
    "torch.cuda.empty_cache()"
   ]
  },
  {
   "cell_type": "code",
   "execution_count": 3,
   "metadata": {},
   "outputs": [
    {
     "name": "stdout",
     "output_type": "stream",
     "text": [
      "Requirement already satisfied: ultralytics in c:\\users\\gon\\anaconda3\\envs\\py10_torch\\lib\\site-packages (8.2.87)\n",
      "Collecting ultralytics\n",
      "  Downloading ultralytics-8.2.88-py3-none-any.whl.metadata (41 kB)\n",
      "Requirement already satisfied: numpy<2.0.0,>=1.23.0 in c:\\users\\gon\\anaconda3\\envs\\py10_torch\\lib\\site-packages (from ultralytics) (1.26.4)\n",
      "Requirement already satisfied: matplotlib>=3.3.0 in c:\\users\\gon\\anaconda3\\envs\\py10_torch\\lib\\site-packages (from ultralytics) (3.9.2)\n",
      "Requirement already satisfied: opencv-python>=4.6.0 in c:\\users\\gon\\anaconda3\\envs\\py10_torch\\lib\\site-packages (from ultralytics) (4.10.0.84)\n",
      "Requirement already satisfied: pillow>=7.1.2 in c:\\users\\gon\\anaconda3\\envs\\py10_torch\\lib\\site-packages (from ultralytics) (10.3.0)\n",
      "Requirement already satisfied: pyyaml>=5.3.1 in c:\\users\\gon\\anaconda3\\envs\\py10_torch\\lib\\site-packages (from ultralytics) (6.0.1)\n",
      "Requirement already satisfied: requests>=2.23.0 in c:\\users\\gon\\anaconda3\\envs\\py10_torch\\lib\\site-packages (from ultralytics) (2.31.0)\n",
      "Requirement already satisfied: scipy>=1.4.1 in c:\\users\\gon\\anaconda3\\envs\\py10_torch\\lib\\site-packages (from ultralytics) (1.14.0)\n",
      "Requirement already satisfied: torch>=1.8.0 in c:\\users\\gon\\anaconda3\\envs\\py10_torch\\lib\\site-packages (from ultralytics) (1.12.1+cu113)\n",
      "Requirement already satisfied: torchvision>=0.9.0 in c:\\users\\gon\\anaconda3\\envs\\py10_torch\\lib\\site-packages (from ultralytics) (0.13.1+cu113)\n",
      "Requirement already satisfied: tqdm>=4.64.0 in c:\\users\\gon\\anaconda3\\envs\\py10_torch\\lib\\site-packages (from ultralytics) (4.66.5)\n",
      "Requirement already satisfied: psutil in c:\\users\\gon\\anaconda3\\envs\\py10_torch\\lib\\site-packages (from ultralytics) (5.9.8)\n",
      "Requirement already satisfied: py-cpuinfo in c:\\users\\gon\\anaconda3\\envs\\py10_torch\\lib\\site-packages (from ultralytics) (9.0.0)\n",
      "Requirement already satisfied: pandas>=1.1.4 in c:\\users\\gon\\anaconda3\\envs\\py10_torch\\lib\\site-packages (from ultralytics) (2.2.2)\n",
      "Requirement already satisfied: seaborn>=0.11.0 in c:\\users\\gon\\anaconda3\\envs\\py10_torch\\lib\\site-packages (from ultralytics) (0.13.2)\n",
      "Requirement already satisfied: ultralytics-thop>=2.0.0 in c:\\users\\gon\\anaconda3\\envs\\py10_torch\\lib\\site-packages (from ultralytics) (2.0.0)\n",
      "Requirement already satisfied: contourpy>=1.0.1 in c:\\users\\gon\\anaconda3\\envs\\py10_torch\\lib\\site-packages (from matplotlib>=3.3.0->ultralytics) (1.2.1)\n",
      "Requirement already satisfied: cycler>=0.10 in c:\\users\\gon\\anaconda3\\envs\\py10_torch\\lib\\site-packages (from matplotlib>=3.3.0->ultralytics) (0.12.1)\n",
      "Requirement already satisfied: fonttools>=4.22.0 in c:\\users\\gon\\anaconda3\\envs\\py10_torch\\lib\\site-packages (from matplotlib>=3.3.0->ultralytics) (4.53.1)\n",
      "Requirement already satisfied: kiwisolver>=1.3.1 in c:\\users\\gon\\anaconda3\\envs\\py10_torch\\lib\\site-packages (from matplotlib>=3.3.0->ultralytics) (1.4.5)\n",
      "Requirement already satisfied: packaging>=20.0 in c:\\users\\gon\\anaconda3\\envs\\py10_torch\\lib\\site-packages (from matplotlib>=3.3.0->ultralytics) (24.0)\n",
      "Requirement already satisfied: pyparsing>=2.3.1 in c:\\users\\gon\\anaconda3\\envs\\py10_torch\\lib\\site-packages (from matplotlib>=3.3.0->ultralytics) (3.1.2)\n",
      "Requirement already satisfied: python-dateutil>=2.7 in c:\\users\\gon\\anaconda3\\envs\\py10_torch\\lib\\site-packages (from matplotlib>=3.3.0->ultralytics) (2.9.0.post0)\n",
      "Requirement already satisfied: pytz>=2020.1 in c:\\users\\gon\\anaconda3\\envs\\py10_torch\\lib\\site-packages (from pandas>=1.1.4->ultralytics) (2024.1)\n",
      "Requirement already satisfied: tzdata>=2022.7 in c:\\users\\gon\\anaconda3\\envs\\py10_torch\\lib\\site-packages (from pandas>=1.1.4->ultralytics) (2024.1)\n",
      "Requirement already satisfied: charset-normalizer<4,>=2 in c:\\users\\gon\\anaconda3\\envs\\py10_torch\\lib\\site-packages (from requests>=2.23.0->ultralytics) (3.3.2)\n",
      "Requirement already satisfied: idna<4,>=2.5 in c:\\users\\gon\\anaconda3\\envs\\py10_torch\\lib\\site-packages (from requests>=2.23.0->ultralytics) (3.7)\n",
      "Requirement already satisfied: urllib3<3,>=1.21.1 in c:\\users\\gon\\anaconda3\\envs\\py10_torch\\lib\\site-packages (from requests>=2.23.0->ultralytics) (2.2.1)\n",
      "Requirement already satisfied: certifi>=2017.4.17 in c:\\users\\gon\\anaconda3\\envs\\py10_torch\\lib\\site-packages (from requests>=2.23.0->ultralytics) (2024.2.2)\n",
      "Requirement already satisfied: typing-extensions in c:\\users\\gon\\anaconda3\\envs\\py10_torch\\lib\\site-packages (from torch>=1.8.0->ultralytics) (4.11.0)\n",
      "Requirement already satisfied: colorama in c:\\users\\gon\\anaconda3\\envs\\py10_torch\\lib\\site-packages (from tqdm>=4.64.0->ultralytics) (0.4.6)\n",
      "Requirement already satisfied: six>=1.5 in c:\\users\\gon\\anaconda3\\envs\\py10_torch\\lib\\site-packages (from python-dateutil>=2.7->matplotlib>=3.3.0->ultralytics) (1.16.0)\n",
      "Downloading ultralytics-8.2.88-py3-none-any.whl (871 kB)\n",
      "   ---------------------------------------- 0.0/871.7 kB ? eta -:--:--\n",
      "   --------------------------------------- 871.7/871.7 kB 19.7 MB/s eta 0:00:00\n",
      "Installing collected packages: ultralytics\n",
      "  Attempting uninstall: ultralytics\n",
      "    Found existing installation: ultralytics 8.2.87\n",
      "    Uninstalling ultralytics-8.2.87:\n",
      "      Successfully uninstalled ultralytics-8.2.87\n",
      "Successfully installed ultralytics-8.2.88\n"
     ]
    }
   ],
   "source": [
    "!pip install -U ultralytics"
   ]
  },
  {
   "cell_type": "code",
   "execution_count": 2,
   "metadata": {},
   "outputs": [
    {
     "name": "stdout",
     "output_type": "stream",
     "text": [
      "Ultralytics YOLOv8.2.88  Python-3.10.0 torch-1.12.1+cu113 CUDA:0 (NVIDIA GeForce RTX 3070, 8191MiB)\n",
      "WARNING  Upgrade to torch>=2.0.0 for deterministic training.\n",
      "\u001b[34m\u001b[1mengine\\trainer: \u001b[0mtask=segment, mode=train, model=yolov8n-seg.pt, data=YOLODataset/dataset.yaml, epochs=80, time=None, patience=100, batch=44, imgsz=640, save=True, save_period=-1, cache=False, device=None, workers=8, project=None, name=train14, exist_ok=False, pretrained=True, optimizer=auto, verbose=True, seed=0, deterministic=True, single_cls=False, rect=False, cos_lr=False, close_mosaic=10, resume=False, amp=True, fraction=1.0, profile=False, freeze=None, multi_scale=False, overlap_mask=True, mask_ratio=4, dropout=0.0, val=True, split=val, save_json=False, save_hybrid=False, conf=None, iou=0.7, max_det=300, half=False, dnn=False, plots=True, source=None, vid_stride=1, stream_buffer=False, visualize=False, augment=False, agnostic_nms=False, classes=None, retina_masks=False, embed=None, show=False, save_frames=False, save_txt=False, save_conf=False, save_crop=False, show_labels=True, show_conf=True, show_boxes=True, line_width=None, format=torchscript, keras=False, optimize=False, int8=False, dynamic=False, simplify=False, opset=None, workspace=4, nms=False, lr0=0.01, lrf=0.01, momentum=0.937, weight_decay=0.0005, warmup_epochs=3.0, warmup_momentum=0.8, warmup_bias_lr=0.1, box=7.5, cls=0.5, dfl=1.5, pose=12.0, kobj=1.0, label_smoothing=0.0, nbs=64, hsv_h=0.015, hsv_s=0.7, hsv_v=0.4, degrees=0.0, translate=0.1, scale=0.5, shear=0.0, perspective=0.0, flipud=0.0, fliplr=0.5, bgr=0.0, mosaic=1.0, mixup=0.0, copy_paste=0.0, auto_augment=randaugment, erasing=0.4, crop_fraction=1.0, cfg=None, tracker=botsort.yaml, save_dir=runs\\segment\\train14\n",
      "Overriding model.yaml nc=80 with nc=9\n",
      "\n",
      "                   from  n    params  module                                       arguments                     \n",
      "  0                  -1  1       464  ultralytics.nn.modules.conv.Conv             [3, 16, 3, 2]                 \n",
      "  1                  -1  1      4672  ultralytics.nn.modules.conv.Conv             [16, 32, 3, 2]                \n",
      "  2                  -1  1      7360  ultralytics.nn.modules.block.C2f             [32, 32, 1, True]             \n",
      "  3                  -1  1     18560  ultralytics.nn.modules.conv.Conv             [32, 64, 3, 2]                \n",
      "  4                  -1  2     49664  ultralytics.nn.modules.block.C2f             [64, 64, 2, True]             \n",
      "  5                  -1  1     73984  ultralytics.nn.modules.conv.Conv             [64, 128, 3, 2]               \n",
      "  6                  -1  2    197632  ultralytics.nn.modules.block.C2f             [128, 128, 2, True]           \n",
      "  7                  -1  1    295424  ultralytics.nn.modules.conv.Conv             [128, 256, 3, 2]              \n",
      "  8                  -1  1    460288  ultralytics.nn.modules.block.C2f             [256, 256, 1, True]           \n",
      "  9                  -1  1    164608  ultralytics.nn.modules.block.SPPF            [256, 256, 5]                 \n",
      " 10                  -1  1         0  torch.nn.modules.upsampling.Upsample         [None, 2, 'nearest']          \n",
      " 11             [-1, 6]  1         0  ultralytics.nn.modules.conv.Concat           [1]                           \n",
      " 12                  -1  1    148224  ultralytics.nn.modules.block.C2f             [384, 128, 1]                 \n",
      " 13                  -1  1         0  torch.nn.modules.upsampling.Upsample         [None, 2, 'nearest']          \n",
      " 14             [-1, 4]  1         0  ultralytics.nn.modules.conv.Concat           [1]                           \n",
      " 15                  -1  1     37248  ultralytics.nn.modules.block.C2f             [192, 64, 1]                  \n",
      " 16                  -1  1     36992  ultralytics.nn.modules.conv.Conv             [64, 64, 3, 2]                \n",
      " 17            [-1, 12]  1         0  ultralytics.nn.modules.conv.Concat           [1]                           \n",
      " 18                  -1  1    123648  ultralytics.nn.modules.block.C2f             [192, 128, 1]                 \n",
      " 19                  -1  1    147712  ultralytics.nn.modules.conv.Conv             [128, 128, 3, 2]              \n",
      " 20             [-1, 9]  1         0  ultralytics.nn.modules.conv.Concat           [1]                           \n",
      " 21                  -1  1    493056  ultralytics.nn.modules.block.C2f             [384, 256, 1]                 \n",
      " 22        [15, 18, 21]  1   1005835  ultralytics.nn.modules.head.Segment          [9, 32, 64, [64, 128, 256]]   \n",
      "YOLOv8n-seg summary: 261 layers, 3,265,371 parameters, 3,265,355 gradients, 12.1 GFLOPs\n",
      "\n",
      "Transferred 381/417 items from pretrained weights\n",
      "Freezing layer 'model.22.dfl.conv.weight'\n",
      "\u001b[34m\u001b[1mAMP: \u001b[0mrunning Automatic Mixed Precision (AMP) checks with YOLOv8n...\n",
      "\u001b[34m\u001b[1mAMP: \u001b[0mchecks passed \n"
     ]
    },
    {
     "name": "stderr",
     "output_type": "stream",
     "text": [
      "\u001b[34m\u001b[1mtrain: \u001b[0mScanning \\\\?\\C:\\dev_ws\\deeplearning-repo-4\\test\\ai_hub_dataset\\dataset\\YOLODataset\\labels\\train.cache... 234095 images, 0 backgrounds, 72 corrupt: 100%|██████████| 234095/234095 [00:00<?, ?it/s]"
     ]
    },
    {
     "name": "stdout",
     "output_type": "stream",
     "text": [
      "\u001b[34m\u001b[1mtrain: \u001b[0mWARNING  \\\\?\\C:\\dev_ws\\deeplearning-repo-4\\test\\ai_hub_dataset\\dataset\\YOLODataset\\images\\train\\01_sou_051123_255611_front_04bottom_01pants_man.jpg: ignoring corrupt image/label: non-normalized or out of bounds coordinates [     1.4913      1.0621]\n",
      "\u001b[34m\u001b[1mtrain: \u001b[0mWARNING  \\\\?\\C:\\dev_ws\\deeplearning-repo-4\\test\\ai_hub_dataset\\dataset\\YOLODataset\\images\\train\\01_sou_051719_258595_wear_04bottom_01pants_woman.jpg: ignoring corrupt image/label: non-normalized or out of bounds coordinates [     1.2928]\n",
      "\u001b[34m\u001b[1mtrain: \u001b[0mWARNING  \\\\?\\C:\\dev_ws\\deeplearning-repo-4\\test\\ai_hub_dataset\\dataset\\YOLODataset\\images\\train\\01_sou_051720_258598_wear_04bottom_01pants_woman.jpg: ignoring corrupt image/label: non-normalized or out of bounds coordinates [     1.1836]\n",
      "\u001b[34m\u001b[1mtrain: \u001b[0mWARNING  \\\\?\\C:\\dev_ws\\deeplearning-repo-4\\test\\ai_hub_dataset\\dataset\\YOLODataset\\images\\train\\01_sou_051720_258599_wear_04bottom_01pants_woman.jpg: ignoring corrupt image/label: non-normalized or out of bounds coordinates [     1.1868]\n",
      "\u001b[34m\u001b[1mtrain: \u001b[0mWARNING  \\\\?\\C:\\dev_ws\\deeplearning-repo-4\\test\\ai_hub_dataset\\dataset\\YOLODataset\\images\\train\\01_sou_051720_258600_wear_04bottom_01pants_woman.jpg: ignoring corrupt image/label: non-normalized or out of bounds coordinates [     1.1542]\n",
      "\u001b[34m\u001b[1mtrain: \u001b[0mWARNING  \\\\?\\C:\\dev_ws\\deeplearning-repo-4\\test\\ai_hub_dataset\\dataset\\YOLODataset\\images\\train\\01_sou_051721_258603_wear_04bottom_01pants_woman.jpg: ignoring corrupt image/label: non-normalized or out of bounds coordinates [     1.1342]\n",
      "\u001b[34m\u001b[1mtrain: \u001b[0mWARNING  \\\\?\\C:\\dev_ws\\deeplearning-repo-4\\test\\ai_hub_dataset\\dataset\\YOLODataset\\images\\train\\01_sou_051721_258605_wear_04bottom_01pants_woman.jpg: ignoring corrupt image/label: non-normalized or out of bounds coordinates [     1.2909]\n",
      "\u001b[34m\u001b[1mtrain: \u001b[0mWARNING  \\\\?\\C:\\dev_ws\\deeplearning-repo-4\\test\\ai_hub_dataset\\dataset\\YOLODataset\\images\\train\\01_sou_071086_355426_front_02top_04shirt_man.jpg: ignoring corrupt image/label: non-normalized or out of bounds coordinates [       1.28      1.2583]\n",
      "\u001b[34m\u001b[1mtrain: \u001b[0mWARNING  \\\\?\\C:\\dev_ws\\deeplearning-repo-4\\test\\ai_hub_dataset\\dataset\\YOLODataset\\images\\train\\01_sou_071086_355427_back_02top_04shirt_man.jpg: ignoring corrupt image/label: non-normalized or out of bounds coordinates [       1.28      1.2583]\n",
      "\u001b[34m\u001b[1mtrain: \u001b[0mWARNING  \\\\?\\C:\\dev_ws\\deeplearning-repo-4\\test\\ai_hub_dataset\\dataset\\YOLODataset\\images\\train\\01_sou_071086_355428_wear_02top_04shirt_man.jpg: ignoring corrupt image/label: non-normalized or out of bounds coordinates [     1.7067]\n",
      "\u001b[34m\u001b[1mtrain: \u001b[0mWARNING  \\\\?\\C:\\dev_ws\\deeplearning-repo-4\\test\\ai_hub_dataset\\dataset\\YOLODataset\\images\\train\\01_sou_071086_355429_wear_02top_04shirt_man.jpg: ignoring corrupt image/label: non-normalized or out of bounds coordinates [     1.7067]\n",
      "\u001b[34m\u001b[1mtrain: \u001b[0mWARNING  \\\\?\\C:\\dev_ws\\deeplearning-repo-4\\test\\ai_hub_dataset\\dataset\\YOLODataset\\images\\train\\01_sou_071086_355430_wear_02top_04shirt_man.jpg: ignoring corrupt image/label: non-normalized or out of bounds coordinates [     1.7067]\n",
      "\u001b[34m\u001b[1mtrain: \u001b[0mWARNING  \\\\?\\C:\\dev_ws\\deeplearning-repo-4\\test\\ai_hub_dataset\\dataset\\YOLODataset\\images\\train\\01_sou_071087_355432_back_02top_04shirt_woman.jpg: ignoring corrupt image/label: non-normalized or out of bounds coordinates [     1.5686      2.0561]\n",
      "\u001b[34m\u001b[1mtrain: \u001b[0mWARNING  \\\\?\\C:\\dev_ws\\deeplearning-repo-4\\test\\ai_hub_dataset\\dataset\\YOLODataset\\images\\train\\01_sou_071087_355435_wear_02top_04shirt_woman.jpg: ignoring corrupt image/label: non-normalized or out of bounds coordinates [     2.2575]\n",
      "\u001b[34m\u001b[1mtrain: \u001b[0mWARNING  \\\\?\\C:\\dev_ws\\deeplearning-repo-4\\test\\ai_hub_dataset\\dataset\\YOLODataset\\images\\train\\01_sou_071088_355436_front_02top_04shirt_woman.jpg: ignoring corrupt image/label: non-normalized or out of bounds coordinates [     1.2698      1.6645]\n",
      "\u001b[34m\u001b[1mtrain: \u001b[0mWARNING  \\\\?\\C:\\dev_ws\\deeplearning-repo-4\\test\\ai_hub_dataset\\dataset\\YOLODataset\\images\\train\\01_sou_071088_355437_back_02top_04shirt_woman.jpg: ignoring corrupt image/label: non-normalized or out of bounds coordinates [     1.2698      1.6645]\n",
      "\u001b[34m\u001b[1mtrain: \u001b[0mWARNING  \\\\?\\C:\\dev_ws\\deeplearning-repo-4\\test\\ai_hub_dataset\\dataset\\YOLODataset\\images\\train\\01_sou_071088_355438_wear_02top_04shirt_woman.jpg: ignoring corrupt image/label: non-normalized or out of bounds coordinates [     2.2575]\n",
      "\u001b[34m\u001b[1mtrain: \u001b[0mWARNING  \\\\?\\C:\\dev_ws\\deeplearning-repo-4\\test\\ai_hub_dataset\\dataset\\YOLODataset\\images\\train\\01_sou_071088_355439_wear_02top_04shirt_woman.jpg: ignoring corrupt image/label: non-normalized or out of bounds coordinates [     2.2575]\n",
      "\u001b[34m\u001b[1mtrain: \u001b[0mWARNING  \\\\?\\C:\\dev_ws\\deeplearning-repo-4\\test\\ai_hub_dataset\\dataset\\YOLODataset\\images\\train\\01_sou_071089_355442_back_02top_04shirt_woman.jpg: ignoring corrupt image/label: non-normalized or out of bounds coordinates [     1.2698      1.6645]\n",
      "\u001b[34m\u001b[1mtrain: \u001b[0mWARNING  \\\\?\\C:\\dev_ws\\deeplearning-repo-4\\test\\ai_hub_dataset\\dataset\\YOLODataset\\images\\train\\01_sou_071089_355443_wear_02top_04shirt_woman.jpg: ignoring corrupt image/label: non-normalized or out of bounds coordinates [     2.2575]\n",
      "\u001b[34m\u001b[1mtrain: \u001b[0mWARNING  \\\\?\\C:\\dev_ws\\deeplearning-repo-4\\test\\ai_hub_dataset\\dataset\\YOLODataset\\images\\train\\01_sou_071089_355444_wear_02top_04shirt_woman.jpg: ignoring corrupt image/label: non-normalized or out of bounds coordinates [     2.2575]\n",
      "\u001b[34m\u001b[1mtrain: \u001b[0mWARNING  \\\\?\\C:\\dev_ws\\deeplearning-repo-4\\test\\ai_hub_dataset\\dataset\\YOLODataset\\images\\train\\01_sou_071089_355445_wear_02top_04shirt_woman.jpg: ignoring corrupt image/label: non-normalized or out of bounds coordinates [     2.2575]\n",
      "\u001b[34m\u001b[1mtrain: \u001b[0mWARNING  \\\\?\\C:\\dev_ws\\deeplearning-repo-4\\test\\ai_hub_dataset\\dataset\\YOLODataset\\images\\train\\01_sou_071090_355446_front_02top_04shirt_man.jpg: ignoring corrupt image/label: non-normalized or out of bounds coordinates [       1.28      1.2583]\n",
      "\u001b[34m\u001b[1mtrain: \u001b[0mWARNING  \\\\?\\C:\\dev_ws\\deeplearning-repo-4\\test\\ai_hub_dataset\\dataset\\YOLODataset\\images\\train\\01_sou_071090_355447_back_02top_04shirt_man.jpg: ignoring corrupt image/label: non-normalized or out of bounds coordinates [       1.28      1.2583]\n",
      "\u001b[34m\u001b[1mtrain: \u001b[0mWARNING  \\\\?\\C:\\dev_ws\\deeplearning-repo-4\\test\\ai_hub_dataset\\dataset\\YOLODataset\\images\\train\\01_sou_071090_355450_wear_02top_04shirt_man.jpg: ignoring corrupt image/label: non-normalized or out of bounds coordinates [     1.7067]\n",
      "\u001b[34m\u001b[1mtrain: \u001b[0mWARNING  \\\\?\\C:\\dev_ws\\deeplearning-repo-4\\test\\ai_hub_dataset\\dataset\\YOLODataset\\images\\train\\01_sou_071091_355452_back_02top_04shirt_man.jpg: ignoring corrupt image/label: non-normalized or out of bounds coordinates [       1.28      1.2583]\n",
      "\u001b[34m\u001b[1mtrain: \u001b[0mWARNING  \\\\?\\C:\\dev_ws\\deeplearning-repo-4\\test\\ai_hub_dataset\\dataset\\YOLODataset\\images\\train\\01_sou_071092_355456_front_02top_04shirt_man.jpg: ignoring corrupt image/label: non-normalized or out of bounds coordinates [     1.6931]\n",
      "\u001b[34m\u001b[1mtrain: \u001b[0mWARNING  \\\\?\\C:\\dev_ws\\deeplearning-repo-4\\test\\ai_hub_dataset\\dataset\\YOLODataset\\images\\train\\01_sou_071092_355460_wear_02top_04shirt_man.jpg: ignoring corrupt image/label: non-normalized or out of bounds coordinates [     2.3188      1.2823]\n",
      "\u001b[34m\u001b[1mtrain: \u001b[0mWARNING  \\\\?\\C:\\dev_ws\\deeplearning-repo-4\\test\\ai_hub_dataset\\dataset\\YOLODataset\\images\\train\\01_sou_071093_355461_front_02top_04shirt_man.jpg: ignoring corrupt image/label: non-normalized or out of bounds coordinates [       1.28      1.2583]\n",
      "\u001b[34m\u001b[1mtrain: \u001b[0mWARNING  \\\\?\\C:\\dev_ws\\deeplearning-repo-4\\test\\ai_hub_dataset\\dataset\\YOLODataset\\images\\train\\01_sou_071093_355462_back_02top_04shirt_man.jpg: ignoring corrupt image/label: non-normalized or out of bounds coordinates [       1.28      1.2583]\n",
      "\u001b[34m\u001b[1mtrain: \u001b[0mWARNING  \\\\?\\C:\\dev_ws\\deeplearning-repo-4\\test\\ai_hub_dataset\\dataset\\YOLODataset\\images\\train\\01_sou_071093_355464_wear_02top_04shirt_man.jpg: ignoring corrupt image/label: non-normalized or out of bounds coordinates [     1.6931]\n",
      "\u001b[34m\u001b[1mtrain: \u001b[0mWARNING  \\\\?\\C:\\dev_ws\\deeplearning-repo-4\\test\\ai_hub_dataset\\dataset\\YOLODataset\\images\\train\\01_sou_071093_355465_wear_02top_04shirt_man.jpg: ignoring corrupt image/label: non-normalized or out of bounds coordinates [     1.6931]\n",
      "\u001b[34m\u001b[1mtrain: \u001b[0mWARNING  \\\\?\\C:\\dev_ws\\deeplearning-repo-4\\test\\ai_hub_dataset\\dataset\\YOLODataset\\images\\train\\01_sou_071094_355466_front_02top_04shirt_woman.jpg: ignoring corrupt image/label: non-normalized or out of bounds coordinates [     1.7067]\n",
      "\u001b[34m\u001b[1mtrain: \u001b[0mWARNING  \\\\?\\C:\\dev_ws\\deeplearning-repo-4\\test\\ai_hub_dataset\\dataset\\YOLODataset\\images\\train\\01_sou_071094_355468_wear_02top_04shirt_woman.jpg: ignoring corrupt image/label: non-normalized or out of bounds coordinates [     1.7067]\n",
      "\u001b[34m\u001b[1mtrain: \u001b[0mWARNING  \\\\?\\C:\\dev_ws\\deeplearning-repo-4\\test\\ai_hub_dataset\\dataset\\YOLODataset\\images\\train\\01_sou_071094_355469_wear_02top_04shirt_woman.jpg: ignoring corrupt image/label: non-normalized or out of bounds coordinates [     1.7067]\n",
      "\u001b[34m\u001b[1mtrain: \u001b[0mWARNING  \\\\?\\C:\\dev_ws\\deeplearning-repo-4\\test\\ai_hub_dataset\\dataset\\YOLODataset\\images\\train\\01_sou_071095_355471_front_02top_04shirt_woman.jpg: ignoring corrupt image/label: non-normalized or out of bounds coordinates [       1.28      1.2583]\n",
      "\u001b[34m\u001b[1mtrain: \u001b[0mWARNING  \\\\?\\C:\\dev_ws\\deeplearning-repo-4\\test\\ai_hub_dataset\\dataset\\YOLODataset\\images\\train\\01_sou_071095_355472_back_02top_04shirt_woman.jpg: ignoring corrupt image/label: non-normalized or out of bounds coordinates [       1.28      1.2583]\n",
      "\u001b[34m\u001b[1mtrain: \u001b[0mWARNING  \\\\?\\C:\\dev_ws\\deeplearning-repo-4\\test\\ai_hub_dataset\\dataset\\YOLODataset\\images\\train\\01_sou_071095_355474_wear_02top_04shirt_woman.jpg: ignoring corrupt image/label: non-normalized or out of bounds coordinates [     2.7061]\n",
      "\u001b[34m\u001b[1mtrain: \u001b[0mWARNING  \\\\?\\C:\\dev_ws\\deeplearning-repo-4\\test\\ai_hub_dataset\\dataset\\YOLODataset\\images\\train\\01_sou_071095_355475_wear_02top_04shirt_woman.jpg: ignoring corrupt image/label: non-normalized or out of bounds coordinates [     2.7061]\n",
      "\u001b[34m\u001b[1mtrain: \u001b[0mWARNING  \\\\?\\C:\\dev_ws\\deeplearning-repo-4\\test\\ai_hub_dataset\\dataset\\YOLODataset\\images\\train\\01_sou_071097_355481_front_02top_04shirt_woman.jpg: ignoring corrupt image/label: non-normalized or out of bounds coordinates [     1.5686      2.0561]\n",
      "\u001b[34m\u001b[1mtrain: \u001b[0mWARNING  \\\\?\\C:\\dev_ws\\deeplearning-repo-4\\test\\ai_hub_dataset\\dataset\\YOLODataset\\images\\train\\01_sou_071097_355482_back_02top_04shirt_woman.jpg: ignoring corrupt image/label: non-normalized or out of bounds coordinates [     1.5686      2.0561]\n",
      "\u001b[34m\u001b[1mtrain: \u001b[0mWARNING  \\\\?\\C:\\dev_ws\\deeplearning-repo-4\\test\\ai_hub_dataset\\dataset\\YOLODataset\\images\\train\\01_sou_071097_355483_wear_02top_04shirt_woman.jpg: ignoring corrupt image/label: non-normalized or out of bounds coordinates [     2.2575]\n",
      "\u001b[34m\u001b[1mtrain: \u001b[0mWARNING  \\\\?\\C:\\dev_ws\\deeplearning-repo-4\\test\\ai_hub_dataset\\dataset\\YOLODataset\\images\\train\\01_sou_071098_355486_front_02top_04shirt_woman.jpg: ignoring corrupt image/label: non-normalized or out of bounds coordinates [     1.5686      2.0561]\n",
      "\u001b[34m\u001b[1mtrain: \u001b[0mWARNING  \\\\?\\C:\\dev_ws\\deeplearning-repo-4\\test\\ai_hub_dataset\\dataset\\YOLODataset\\images\\train\\01_sou_071098_355487_back_02top_04shirt_woman.jpg: ignoring corrupt image/label: non-normalized or out of bounds coordinates [     1.5686      2.0561]\n",
      "\u001b[34m\u001b[1mtrain: \u001b[0mWARNING  \\\\?\\C:\\dev_ws\\deeplearning-repo-4\\test\\ai_hub_dataset\\dataset\\YOLODataset\\images\\train\\01_sou_071098_355488_wear_02top_04shirt_woman.jpg: ignoring corrupt image/label: non-normalized or out of bounds coordinates [     2.2575]\n",
      "\u001b[34m\u001b[1mtrain: \u001b[0mWARNING  \\\\?\\C:\\dev_ws\\deeplearning-repo-4\\test\\ai_hub_dataset\\dataset\\YOLODataset\\images\\train\\01_sou_071099_355491_front_02top_04shirt_woman.jpg: ignoring corrupt image/label: non-normalized or out of bounds coordinates [     1.5686      2.0561]\n",
      "\u001b[34m\u001b[1mtrain: \u001b[0mWARNING  \\\\?\\C:\\dev_ws\\deeplearning-repo-4\\test\\ai_hub_dataset\\dataset\\YOLODataset\\images\\train\\01_sou_071099_355492_back_02top_04shirt_woman.jpg: ignoring corrupt image/label: non-normalized or out of bounds coordinates [     1.5686      2.0561]\n",
      "\u001b[34m\u001b[1mtrain: \u001b[0mWARNING  \\\\?\\C:\\dev_ws\\deeplearning-repo-4\\test\\ai_hub_dataset\\dataset\\YOLODataset\\images\\train\\01_sou_071099_355493_wear_02top_04shirt_woman.jpg: ignoring corrupt image/label: non-normalized or out of bounds coordinates [     2.2575]\n",
      "\u001b[34m\u001b[1mtrain: \u001b[0mWARNING  \\\\?\\C:\\dev_ws\\deeplearning-repo-4\\test\\ai_hub_dataset\\dataset\\YOLODataset\\images\\train\\01_sou_071099_355494_wear_02top_04shirt_woman.jpg: ignoring corrupt image/label: non-normalized or out of bounds coordinates [     2.2575]\n",
      "\u001b[34m\u001b[1mtrain: \u001b[0mWARNING  \\\\?\\C:\\dev_ws\\deeplearning-repo-4\\test\\ai_hub_dataset\\dataset\\YOLODataset\\images\\train\\01_sou_078447_392231_front_04bottom_01pants_man.jpg: ignoring corrupt image/label: non-normalized or out of bounds coordinates [     1.1995]\n",
      "\u001b[34m\u001b[1mtrain: \u001b[0mWARNING  \\\\?\\C:\\dev_ws\\deeplearning-repo-4\\test\\ai_hub_dataset\\dataset\\YOLODataset\\images\\train\\01_sou_078447_392232_back_04bottom_01pants_man.jpg: ignoring corrupt image/label: non-normalized or out of bounds coordinates [     1.1995]\n",
      "\u001b[34m\u001b[1mtrain: \u001b[0mWARNING  \\\\?\\C:\\dev_ws\\deeplearning-repo-4\\test\\ai_hub_dataset\\dataset\\YOLODataset\\images\\train\\01_sou_081910_409549_wear_02top_01blouse_woman.jpg: ignoring corrupt image/label: non-normalized or out of bounds coordinates [     1.1431]\n",
      "\u001b[34m\u001b[1mtrain: \u001b[0mWARNING  \\\\?\\C:\\dev_ws\\deeplearning-repo-4\\test\\ai_hub_dataset\\dataset\\YOLODataset\\images\\train\\01_sou_081914_409568_wear_02top_01blouse_woman.jpg: ignoring corrupt image/label: non-normalized or out of bounds coordinates [      1.073]\n",
      "\u001b[34m\u001b[1mtrain: \u001b[0mWARNING  \\\\?\\C:\\dev_ws\\deeplearning-repo-4\\test\\ai_hub_dataset\\dataset\\YOLODataset\\images\\train\\01_sou_081914_409569_wear_02top_01blouse_woman.jpg: ignoring corrupt image/label: non-normalized or out of bounds coordinates [     1.1025]\n",
      "\u001b[34m\u001b[1mtrain: \u001b[0mWARNING  \\\\?\\C:\\dev_ws\\deeplearning-repo-4\\test\\ai_hub_dataset\\dataset\\YOLODataset\\images\\train\\01_sou_081917_409584_wear_02top_01blouse_woman.jpg: ignoring corrupt image/label: non-normalized or out of bounds coordinates [      1.073]\n",
      "\u001b[34m\u001b[1mtrain: \u001b[0mWARNING  \\\\?\\C:\\dev_ws\\deeplearning-repo-4\\test\\ai_hub_dataset\\dataset\\YOLODataset\\images\\train\\01_sou_081936_409680_wear_02top_01blouse_woman.jpg: ignoring corrupt image/label: non-normalized or out of bounds coordinates [     1.2999]\n",
      "\u001b[34m\u001b[1mtrain: \u001b[0mWARNING  \\\\?\\C:\\dev_ws\\deeplearning-repo-4\\test\\ai_hub_dataset\\dataset\\YOLODataset\\images\\train\\01_sou_081937_409683_wear_02top_01blouse_woman.jpg: ignoring corrupt image/label: non-normalized or out of bounds coordinates [     1.2999]\n",
      "\u001b[34m\u001b[1mtrain: \u001b[0mWARNING  \\\\?\\C:\\dev_ws\\deeplearning-repo-4\\test\\ai_hub_dataset\\dataset\\YOLODataset\\images\\train\\01_sou_081937_409684_wear_02top_01blouse_woman.jpg: ignoring corrupt image/label: non-normalized or out of bounds coordinates [     1.2999]\n",
      "\u001b[34m\u001b[1mtrain: \u001b[0mWARNING  \\\\?\\C:\\dev_ws\\deeplearning-repo-4\\test\\ai_hub_dataset\\dataset\\YOLODataset\\images\\train\\01_sou_081939_409695_wear_02top_01blouse_woman.jpg: ignoring corrupt image/label: non-normalized or out of bounds coordinates [     1.2999]\n",
      "\u001b[34m\u001b[1mtrain: \u001b[0mWARNING  \\\\?\\C:\\dev_ws\\deeplearning-repo-4\\test\\ai_hub_dataset\\dataset\\YOLODataset\\images\\train\\01_sou_081940_409698_wear_02top_01blouse_woman.jpg: ignoring corrupt image/label: non-normalized or out of bounds coordinates [     1.2999]\n",
      "\u001b[34m\u001b[1mtrain: \u001b[0mWARNING  \\\\?\\C:\\dev_ws\\deeplearning-repo-4\\test\\ai_hub_dataset\\dataset\\YOLODataset\\images\\train\\01_sou_081944_409718_wear_02top_01blouse_woman.jpg: ignoring corrupt image/label: non-normalized or out of bounds coordinates [     1.2999]\n",
      "\u001b[34m\u001b[1mtrain: \u001b[0mWARNING  \\\\?\\C:\\dev_ws\\deeplearning-repo-4\\test\\ai_hub_dataset\\dataset\\YOLODataset\\images\\train\\01_sou_081945_409723_wear_02top_01blouse_woman.jpg: ignoring corrupt image/label: non-normalized or out of bounds coordinates [     1.2999]\n",
      "\u001b[34m\u001b[1mtrain: \u001b[0mWARNING  \\\\?\\C:\\dev_ws\\deeplearning-repo-4\\test\\ai_hub_dataset\\dataset\\YOLODataset\\images\\train\\01_sou_081945_409725_wear_02top_01blouse_woman.jpg: ignoring corrupt image/label: non-normalized or out of bounds coordinates [     1.2999]\n",
      "\u001b[34m\u001b[1mtrain: \u001b[0mWARNING  \\\\?\\C:\\dev_ws\\deeplearning-repo-4\\test\\ai_hub_dataset\\dataset\\YOLODataset\\images\\train\\01_sou_103300_516500_wear_04bottom_01pants_man.jpg: ignoring corrupt image/label: non-normalized or out of bounds coordinates [     1.3028]\n",
      "\u001b[34m\u001b[1mtrain: \u001b[0mWARNING  \\\\?\\C:\\dev_ws\\deeplearning-repo-4\\test\\ai_hub_dataset\\dataset\\YOLODataset\\images\\train\\01_sou_103301_516504_wear_04bottom_01pants_man.jpg: ignoring corrupt image/label: non-normalized or out of bounds coordinates [     1.0104]\n",
      "\u001b[34m\u001b[1mtrain: \u001b[0mWARNING  \\\\?\\C:\\dev_ws\\deeplearning-repo-4\\test\\ai_hub_dataset\\dataset\\YOLODataset\\images\\train\\01_sou_103301_516505_wear_04bottom_01pants_man.jpg: ignoring corrupt image/label: non-normalized or out of bounds coordinates [      1.297]\n",
      "\u001b[34m\u001b[1mtrain: \u001b[0mWARNING  \\\\?\\C:\\dev_ws\\deeplearning-repo-4\\test\\ai_hub_dataset\\dataset\\YOLODataset\\images\\train\\01_sou_109046_545229_wear_02top_04shirt_woman.jpg: ignoring corrupt image/label: non-normalized or out of bounds coordinates [     1.0483]\n",
      "\u001b[34m\u001b[1mtrain: \u001b[0mWARNING  \\\\?\\C:\\dev_ws\\deeplearning-repo-4\\test\\ai_hub_dataset\\dataset\\YOLODataset\\images\\train\\01_sou_109046_545230_wear_02top_04shirt_woman.jpg: ignoring corrupt image/label: non-normalized or out of bounds coordinates [     1.0316]\n",
      "\u001b[34m\u001b[1mtrain: \u001b[0mWARNING  \\\\?\\C:\\dev_ws\\deeplearning-repo-4\\test\\ai_hub_dataset\\dataset\\YOLODataset\\images\\train\\01_sou_109053_545263_wear_02top_04shirt_woman.jpg: ignoring corrupt image/label: non-normalized or out of bounds coordinates [     1.0819]\n",
      "\u001b[34m\u001b[1mtrain: \u001b[0mWARNING  \\\\?\\C:\\dev_ws\\deeplearning-repo-4\\test\\ai_hub_dataset\\dataset\\YOLODataset\\images\\train\\01_sou_109053_545264_wear_02top_04shirt_woman.jpg: ignoring corrupt image/label: non-normalized or out of bounds coordinates [     1.0819]\n",
      "\u001b[34m\u001b[1mtrain: \u001b[0mWARNING  \\\\?\\C:\\dev_ws\\deeplearning-repo-4\\test\\ai_hub_dataset\\dataset\\YOLODataset\\images\\train\\01_sou_109053_545265_wear_02top_04shirt_woman.jpg: ignoring corrupt image/label: non-normalized or out of bounds coordinates [     1.0819]\n",
      "\u001b[34m\u001b[1mtrain: \u001b[0mWARNING  \\\\?\\C:\\dev_ws\\deeplearning-repo-4\\test\\ai_hub_dataset\\dataset\\YOLODataset\\images\\train\\01_sou_109057_545283_wear_02top_04shirt_woman.jpg: ignoring corrupt image/label: non-normalized or out of bounds coordinates [     1.0715]\n"
     ]
    },
    {
     "name": "stderr",
     "output_type": "stream",
     "text": [
      "\n"
     ]
    },
    {
     "ename": "KeyboardInterrupt",
     "evalue": "",
     "output_type": "error",
     "traceback": [
      "\u001b[1;31m---------------------------------------------------------------------------\u001b[0m",
      "\u001b[1;31mKeyboardInterrupt\u001b[0m                         Traceback (most recent call last)",
      "Cell \u001b[1;32mIn[2], line 5\u001b[0m\n\u001b[0;32m      1\u001b[0m \u001b[38;5;28;01mfrom\u001b[39;00m \u001b[38;5;21;01multralytics\u001b[39;00m \u001b[38;5;28;01mimport\u001b[39;00m YOLO\n\u001b[0;32m      3\u001b[0m model \u001b[38;5;241m=\u001b[39m YOLO(\u001b[38;5;124m'\u001b[39m\u001b[38;5;124myolov8n-seg.pt\u001b[39m\u001b[38;5;124m'\u001b[39m)\n\u001b[1;32m----> 5\u001b[0m \u001b[43mmodel\u001b[49m\u001b[38;5;241;43m.\u001b[39;49m\u001b[43mtrain\u001b[49m\u001b[43m(\u001b[49m\n\u001b[0;32m      6\u001b[0m \u001b[43m    \u001b[49m\u001b[43mdata\u001b[49m\u001b[38;5;241;43m=\u001b[39;49m\u001b[38;5;124;43m'\u001b[39;49m\u001b[38;5;124;43mYOLODataset/dataset.yaml\u001b[39;49m\u001b[38;5;124;43m'\u001b[39;49m\u001b[43m,\u001b[49m\u001b[43m  \u001b[49m\u001b[38;5;66;43;03m# 새 데이터셋 경로를 사용\u001b[39;49;00m\n\u001b[0;32m      7\u001b[0m \u001b[43m    \u001b[49m\u001b[43mepochs\u001b[49m\u001b[38;5;241;43m=\u001b[39;49m\u001b[38;5;241;43m80\u001b[39;49m\u001b[43m,\u001b[49m\u001b[43m \u001b[49m\n\u001b[0;32m      8\u001b[0m \u001b[43m    \u001b[49m\u001b[43mimgsz\u001b[49m\u001b[38;5;241;43m=\u001b[39;49m\u001b[38;5;241;43m640\u001b[39;49m\u001b[43m,\u001b[49m\u001b[43m \u001b[49m\n\u001b[0;32m      9\u001b[0m \u001b[43m    \u001b[49m\u001b[43mbatch\u001b[49m\u001b[38;5;241;43m=\u001b[39;49m\u001b[38;5;241;43m44\u001b[39;49m\n\u001b[0;32m     10\u001b[0m \u001b[43m    \u001b[49m\u001b[43m)\u001b[49m\n",
      "File \u001b[1;32mc:\\Users\\gon\\anaconda3\\envs\\py10_torch\\lib\\site-packages\\ultralytics\\engine\\model.py:815\u001b[0m, in \u001b[0;36mModel.train\u001b[1;34m(self, trainer, **kwargs)\u001b[0m\n\u001b[0;32m    812\u001b[0m     \u001b[38;5;28mself\u001b[39m\u001b[38;5;241m.\u001b[39mmodel \u001b[38;5;241m=\u001b[39m \u001b[38;5;28mself\u001b[39m\u001b[38;5;241m.\u001b[39mtrainer\u001b[38;5;241m.\u001b[39mmodel\n\u001b[0;32m    814\u001b[0m \u001b[38;5;28mself\u001b[39m\u001b[38;5;241m.\u001b[39mtrainer\u001b[38;5;241m.\u001b[39mhub_session \u001b[38;5;241m=\u001b[39m \u001b[38;5;28mself\u001b[39m\u001b[38;5;241m.\u001b[39msession  \u001b[38;5;66;03m# attach optional HUB session\u001b[39;00m\n\u001b[1;32m--> 815\u001b[0m \u001b[38;5;28;43mself\u001b[39;49m\u001b[38;5;241;43m.\u001b[39;49m\u001b[43mtrainer\u001b[49m\u001b[38;5;241;43m.\u001b[39;49m\u001b[43mtrain\u001b[49m\u001b[43m(\u001b[49m\u001b[43m)\u001b[49m\n\u001b[0;32m    816\u001b[0m \u001b[38;5;66;03m# Update model and cfg after training\u001b[39;00m\n\u001b[0;32m    817\u001b[0m \u001b[38;5;28;01mif\u001b[39;00m RANK \u001b[38;5;129;01min\u001b[39;00m {\u001b[38;5;241m-\u001b[39m\u001b[38;5;241m1\u001b[39m, \u001b[38;5;241m0\u001b[39m}:\n",
      "File \u001b[1;32mc:\\Users\\gon\\anaconda3\\envs\\py10_torch\\lib\\site-packages\\ultralytics\\engine\\trainer.py:207\u001b[0m, in \u001b[0;36mBaseTrainer.train\u001b[1;34m(self)\u001b[0m\n\u001b[0;32m    204\u001b[0m         ddp_cleanup(\u001b[38;5;28mself\u001b[39m, \u001b[38;5;28mstr\u001b[39m(file))\n\u001b[0;32m    206\u001b[0m \u001b[38;5;28;01melse\u001b[39;00m:\n\u001b[1;32m--> 207\u001b[0m     \u001b[38;5;28;43mself\u001b[39;49m\u001b[38;5;241;43m.\u001b[39;49m\u001b[43m_do_train\u001b[49m\u001b[43m(\u001b[49m\u001b[43mworld_size\u001b[49m\u001b[43m)\u001b[49m\n",
      "File \u001b[1;32mc:\\Users\\gon\\anaconda3\\envs\\py10_torch\\lib\\site-packages\\ultralytics\\engine\\trainer.py:327\u001b[0m, in \u001b[0;36mBaseTrainer._do_train\u001b[1;34m(self, world_size)\u001b[0m\n\u001b[0;32m    325\u001b[0m \u001b[38;5;28;01mif\u001b[39;00m world_size \u001b[38;5;241m>\u001b[39m \u001b[38;5;241m1\u001b[39m:\n\u001b[0;32m    326\u001b[0m     \u001b[38;5;28mself\u001b[39m\u001b[38;5;241m.\u001b[39m_setup_ddp(world_size)\n\u001b[1;32m--> 327\u001b[0m \u001b[38;5;28;43mself\u001b[39;49m\u001b[38;5;241;43m.\u001b[39;49m\u001b[43m_setup_train\u001b[49m\u001b[43m(\u001b[49m\u001b[43mworld_size\u001b[49m\u001b[43m)\u001b[49m\n\u001b[0;32m    329\u001b[0m nb \u001b[38;5;241m=\u001b[39m \u001b[38;5;28mlen\u001b[39m(\u001b[38;5;28mself\u001b[39m\u001b[38;5;241m.\u001b[39mtrain_loader)  \u001b[38;5;66;03m# number of batches\u001b[39;00m\n\u001b[0;32m    330\u001b[0m nw \u001b[38;5;241m=\u001b[39m \u001b[38;5;28mmax\u001b[39m(\u001b[38;5;28mround\u001b[39m(\u001b[38;5;28mself\u001b[39m\u001b[38;5;241m.\u001b[39margs\u001b[38;5;241m.\u001b[39mwarmup_epochs \u001b[38;5;241m*\u001b[39m nb), \u001b[38;5;241m100\u001b[39m) \u001b[38;5;28;01mif\u001b[39;00m \u001b[38;5;28mself\u001b[39m\u001b[38;5;241m.\u001b[39margs\u001b[38;5;241m.\u001b[39mwarmup_epochs \u001b[38;5;241m>\u001b[39m \u001b[38;5;241m0\u001b[39m \u001b[38;5;28;01melse\u001b[39;00m \u001b[38;5;241m-\u001b[39m\u001b[38;5;241m1\u001b[39m  \u001b[38;5;66;03m# warmup iterations\u001b[39;00m\n",
      "File \u001b[1;32mc:\\Users\\gon\\anaconda3\\envs\\py10_torch\\lib\\site-packages\\ultralytics\\engine\\trainer.py:291\u001b[0m, in \u001b[0;36mBaseTrainer._setup_train\u001b[1;34m(self, world_size)\u001b[0m\n\u001b[0;32m    289\u001b[0m \u001b[38;5;66;03m# Dataloaders\u001b[39;00m\n\u001b[0;32m    290\u001b[0m batch_size \u001b[38;5;241m=\u001b[39m \u001b[38;5;28mself\u001b[39m\u001b[38;5;241m.\u001b[39mbatch_size \u001b[38;5;241m/\u001b[39m\u001b[38;5;241m/\u001b[39m \u001b[38;5;28mmax\u001b[39m(world_size, \u001b[38;5;241m1\u001b[39m)\n\u001b[1;32m--> 291\u001b[0m \u001b[38;5;28mself\u001b[39m\u001b[38;5;241m.\u001b[39mtrain_loader \u001b[38;5;241m=\u001b[39m \u001b[38;5;28;43mself\u001b[39;49m\u001b[38;5;241;43m.\u001b[39;49m\u001b[43mget_dataloader\u001b[49m\u001b[43m(\u001b[49m\u001b[38;5;28;43mself\u001b[39;49m\u001b[38;5;241;43m.\u001b[39;49m\u001b[43mtrainset\u001b[49m\u001b[43m,\u001b[49m\u001b[43m \u001b[49m\u001b[43mbatch_size\u001b[49m\u001b[38;5;241;43m=\u001b[39;49m\u001b[43mbatch_size\u001b[49m\u001b[43m,\u001b[49m\u001b[43m \u001b[49m\u001b[43mrank\u001b[49m\u001b[38;5;241;43m=\u001b[39;49m\u001b[43mLOCAL_RANK\u001b[49m\u001b[43m,\u001b[49m\u001b[43m \u001b[49m\u001b[43mmode\u001b[49m\u001b[38;5;241;43m=\u001b[39;49m\u001b[38;5;124;43m\"\u001b[39;49m\u001b[38;5;124;43mtrain\u001b[39;49m\u001b[38;5;124;43m\"\u001b[39;49m\u001b[43m)\u001b[49m\n\u001b[0;32m    292\u001b[0m \u001b[38;5;28;01mif\u001b[39;00m RANK \u001b[38;5;129;01min\u001b[39;00m {\u001b[38;5;241m-\u001b[39m\u001b[38;5;241m1\u001b[39m, \u001b[38;5;241m0\u001b[39m}:\n\u001b[0;32m    293\u001b[0m     \u001b[38;5;66;03m# Note: When training DOTA dataset, double batch size could get OOM on images with >2000 objects.\u001b[39;00m\n\u001b[0;32m    294\u001b[0m     \u001b[38;5;28mself\u001b[39m\u001b[38;5;241m.\u001b[39mtest_loader \u001b[38;5;241m=\u001b[39m \u001b[38;5;28mself\u001b[39m\u001b[38;5;241m.\u001b[39mget_dataloader(\n\u001b[0;32m    295\u001b[0m         \u001b[38;5;28mself\u001b[39m\u001b[38;5;241m.\u001b[39mtestset, batch_size\u001b[38;5;241m=\u001b[39mbatch_size \u001b[38;5;28;01mif\u001b[39;00m \u001b[38;5;28mself\u001b[39m\u001b[38;5;241m.\u001b[39margs\u001b[38;5;241m.\u001b[39mtask \u001b[38;5;241m==\u001b[39m \u001b[38;5;124m\"\u001b[39m\u001b[38;5;124mobb\u001b[39m\u001b[38;5;124m\"\u001b[39m \u001b[38;5;28;01melse\u001b[39;00m batch_size \u001b[38;5;241m*\u001b[39m \u001b[38;5;241m2\u001b[39m, rank\u001b[38;5;241m=\u001b[39m\u001b[38;5;241m-\u001b[39m\u001b[38;5;241m1\u001b[39m, mode\u001b[38;5;241m=\u001b[39m\u001b[38;5;124m\"\u001b[39m\u001b[38;5;124mval\u001b[39m\u001b[38;5;124m\"\u001b[39m\n\u001b[0;32m    296\u001b[0m     )\n",
      "File \u001b[1;32mc:\\Users\\gon\\anaconda3\\envs\\py10_torch\\lib\\site-packages\\ultralytics\\models\\yolo\\detect\\train.py:55\u001b[0m, in \u001b[0;36mDetectionTrainer.get_dataloader\u001b[1;34m(self, dataset_path, batch_size, rank, mode)\u001b[0m\n\u001b[0;32m     53\u001b[0m     shuffle \u001b[38;5;241m=\u001b[39m \u001b[38;5;28;01mFalse\u001b[39;00m\n\u001b[0;32m     54\u001b[0m workers \u001b[38;5;241m=\u001b[39m \u001b[38;5;28mself\u001b[39m\u001b[38;5;241m.\u001b[39margs\u001b[38;5;241m.\u001b[39mworkers \u001b[38;5;28;01mif\u001b[39;00m mode \u001b[38;5;241m==\u001b[39m \u001b[38;5;124m\"\u001b[39m\u001b[38;5;124mtrain\u001b[39m\u001b[38;5;124m\"\u001b[39m \u001b[38;5;28;01melse\u001b[39;00m \u001b[38;5;28mself\u001b[39m\u001b[38;5;241m.\u001b[39margs\u001b[38;5;241m.\u001b[39mworkers \u001b[38;5;241m*\u001b[39m \u001b[38;5;241m2\u001b[39m\n\u001b[1;32m---> 55\u001b[0m \u001b[38;5;28;01mreturn\u001b[39;00m \u001b[43mbuild_dataloader\u001b[49m\u001b[43m(\u001b[49m\u001b[43mdataset\u001b[49m\u001b[43m,\u001b[49m\u001b[43m \u001b[49m\u001b[43mbatch_size\u001b[49m\u001b[43m,\u001b[49m\u001b[43m \u001b[49m\u001b[43mworkers\u001b[49m\u001b[43m,\u001b[49m\u001b[43m \u001b[49m\u001b[43mshuffle\u001b[49m\u001b[43m,\u001b[49m\u001b[43m \u001b[49m\u001b[43mrank\u001b[49m\u001b[43m)\u001b[49m\n",
      "File \u001b[1;32mc:\\Users\\gon\\anaconda3\\envs\\py10_torch\\lib\\site-packages\\ultralytics\\data\\build.py:135\u001b[0m, in \u001b[0;36mbuild_dataloader\u001b[1;34m(dataset, batch, workers, shuffle, rank)\u001b[0m\n\u001b[0;32m    133\u001b[0m generator \u001b[38;5;241m=\u001b[39m torch\u001b[38;5;241m.\u001b[39mGenerator()\n\u001b[0;32m    134\u001b[0m generator\u001b[38;5;241m.\u001b[39mmanual_seed(\u001b[38;5;241m6148914691236517205\u001b[39m \u001b[38;5;241m+\u001b[39m RANK)\n\u001b[1;32m--> 135\u001b[0m \u001b[38;5;28;01mreturn\u001b[39;00m \u001b[43mInfiniteDataLoader\u001b[49m\u001b[43m(\u001b[49m\n\u001b[0;32m    136\u001b[0m \u001b[43m    \u001b[49m\u001b[43mdataset\u001b[49m\u001b[38;5;241;43m=\u001b[39;49m\u001b[43mdataset\u001b[49m\u001b[43m,\u001b[49m\n\u001b[0;32m    137\u001b[0m \u001b[43m    \u001b[49m\u001b[43mbatch_size\u001b[49m\u001b[38;5;241;43m=\u001b[39;49m\u001b[43mbatch\u001b[49m\u001b[43m,\u001b[49m\n\u001b[0;32m    138\u001b[0m \u001b[43m    \u001b[49m\u001b[43mshuffle\u001b[49m\u001b[38;5;241;43m=\u001b[39;49m\u001b[43mshuffle\u001b[49m\u001b[43m \u001b[49m\u001b[38;5;129;43;01mand\u001b[39;49;00m\u001b[43m \u001b[49m\u001b[43msampler\u001b[49m\u001b[43m \u001b[49m\u001b[38;5;129;43;01mis\u001b[39;49;00m\u001b[43m \u001b[49m\u001b[38;5;28;43;01mNone\u001b[39;49;00m\u001b[43m,\u001b[49m\n\u001b[0;32m    139\u001b[0m \u001b[43m    \u001b[49m\u001b[43mnum_workers\u001b[49m\u001b[38;5;241;43m=\u001b[39;49m\u001b[43mnw\u001b[49m\u001b[43m,\u001b[49m\n\u001b[0;32m    140\u001b[0m \u001b[43m    \u001b[49m\u001b[43msampler\u001b[49m\u001b[38;5;241;43m=\u001b[39;49m\u001b[43msampler\u001b[49m\u001b[43m,\u001b[49m\n\u001b[0;32m    141\u001b[0m \u001b[43m    \u001b[49m\u001b[43mpin_memory\u001b[49m\u001b[38;5;241;43m=\u001b[39;49m\u001b[43mPIN_MEMORY\u001b[49m\u001b[43m,\u001b[49m\n\u001b[0;32m    142\u001b[0m \u001b[43m    \u001b[49m\u001b[43mcollate_fn\u001b[49m\u001b[38;5;241;43m=\u001b[39;49m\u001b[38;5;28;43mgetattr\u001b[39;49m\u001b[43m(\u001b[49m\u001b[43mdataset\u001b[49m\u001b[43m,\u001b[49m\u001b[43m \u001b[49m\u001b[38;5;124;43m\"\u001b[39;49m\u001b[38;5;124;43mcollate_fn\u001b[39;49m\u001b[38;5;124;43m\"\u001b[39;49m\u001b[43m,\u001b[49m\u001b[43m \u001b[49m\u001b[38;5;28;43;01mNone\u001b[39;49;00m\u001b[43m)\u001b[49m\u001b[43m,\u001b[49m\n\u001b[0;32m    143\u001b[0m \u001b[43m    \u001b[49m\u001b[43mworker_init_fn\u001b[49m\u001b[38;5;241;43m=\u001b[39;49m\u001b[43mseed_worker\u001b[49m\u001b[43m,\u001b[49m\n\u001b[0;32m    144\u001b[0m \u001b[43m    \u001b[49m\u001b[43mgenerator\u001b[49m\u001b[38;5;241;43m=\u001b[39;49m\u001b[43mgenerator\u001b[49m\u001b[43m,\u001b[49m\n\u001b[0;32m    145\u001b[0m \u001b[43m\u001b[49m\u001b[43m)\u001b[49m\n",
      "File \u001b[1;32mc:\\Users\\gon\\anaconda3\\envs\\py10_torch\\lib\\site-packages\\ultralytics\\data\\build.py:39\u001b[0m, in \u001b[0;36mInfiniteDataLoader.__init__\u001b[1;34m(self, *args, **kwargs)\u001b[0m\n\u001b[0;32m     37\u001b[0m \u001b[38;5;28msuper\u001b[39m()\u001b[38;5;241m.\u001b[39m\u001b[38;5;21m__init__\u001b[39m(\u001b[38;5;241m*\u001b[39margs, \u001b[38;5;241m*\u001b[39m\u001b[38;5;241m*\u001b[39mkwargs)\n\u001b[0;32m     38\u001b[0m \u001b[38;5;28mobject\u001b[39m\u001b[38;5;241m.\u001b[39m\u001b[38;5;21m__setattr__\u001b[39m(\u001b[38;5;28mself\u001b[39m, \u001b[38;5;124m\"\u001b[39m\u001b[38;5;124mbatch_sampler\u001b[39m\u001b[38;5;124m\"\u001b[39m, _RepeatSampler(\u001b[38;5;28mself\u001b[39m\u001b[38;5;241m.\u001b[39mbatch_sampler))\n\u001b[1;32m---> 39\u001b[0m \u001b[38;5;28mself\u001b[39m\u001b[38;5;241m.\u001b[39miterator \u001b[38;5;241m=\u001b[39m \u001b[38;5;28;43msuper\u001b[39;49m\u001b[43m(\u001b[49m\u001b[43m)\u001b[49m\u001b[38;5;241;43m.\u001b[39;49m\u001b[38;5;21;43m__iter__\u001b[39;49m\u001b[43m(\u001b[49m\u001b[43m)\u001b[49m\n",
      "File \u001b[1;32mc:\\Users\\gon\\anaconda3\\envs\\py10_torch\\lib\\site-packages\\torch\\utils\\data\\dataloader.py:444\u001b[0m, in \u001b[0;36mDataLoader.__iter__\u001b[1;34m(self)\u001b[0m\n\u001b[0;32m    442\u001b[0m     \u001b[38;5;28;01mreturn\u001b[39;00m \u001b[38;5;28mself\u001b[39m\u001b[38;5;241m.\u001b[39m_iterator\n\u001b[0;32m    443\u001b[0m \u001b[38;5;28;01melse\u001b[39;00m:\n\u001b[1;32m--> 444\u001b[0m     \u001b[38;5;28;01mreturn\u001b[39;00m \u001b[38;5;28;43mself\u001b[39;49m\u001b[38;5;241;43m.\u001b[39;49m\u001b[43m_get_iterator\u001b[49m\u001b[43m(\u001b[49m\u001b[43m)\u001b[49m\n",
      "File \u001b[1;32mc:\\Users\\gon\\anaconda3\\envs\\py10_torch\\lib\\site-packages\\torch\\utils\\data\\dataloader.py:390\u001b[0m, in \u001b[0;36mDataLoader._get_iterator\u001b[1;34m(self)\u001b[0m\n\u001b[0;32m    388\u001b[0m \u001b[38;5;28;01melse\u001b[39;00m:\n\u001b[0;32m    389\u001b[0m     \u001b[38;5;28mself\u001b[39m\u001b[38;5;241m.\u001b[39mcheck_worker_number_rationality()\n\u001b[1;32m--> 390\u001b[0m     \u001b[38;5;28;01mreturn\u001b[39;00m \u001b[43m_MultiProcessingDataLoaderIter\u001b[49m\u001b[43m(\u001b[49m\u001b[38;5;28;43mself\u001b[39;49m\u001b[43m)\u001b[49m\n",
      "File \u001b[1;32mc:\\Users\\gon\\anaconda3\\envs\\py10_torch\\lib\\site-packages\\torch\\utils\\data\\dataloader.py:1077\u001b[0m, in \u001b[0;36m_MultiProcessingDataLoaderIter.__init__\u001b[1;34m(self, loader)\u001b[0m\n\u001b[0;32m   1070\u001b[0m w\u001b[38;5;241m.\u001b[39mdaemon \u001b[38;5;241m=\u001b[39m \u001b[38;5;28;01mTrue\u001b[39;00m\n\u001b[0;32m   1071\u001b[0m \u001b[38;5;66;03m# NB: Process.start() actually take some time as it needs to\u001b[39;00m\n\u001b[0;32m   1072\u001b[0m \u001b[38;5;66;03m#     start a process and pass the arguments over via a pipe.\u001b[39;00m\n\u001b[0;32m   1073\u001b[0m \u001b[38;5;66;03m#     Therefore, we only add a worker to self._workers list after\u001b[39;00m\n\u001b[0;32m   1074\u001b[0m \u001b[38;5;66;03m#     it started, so that we do not call .join() if program dies\u001b[39;00m\n\u001b[0;32m   1075\u001b[0m \u001b[38;5;66;03m#     before it starts, and __del__ tries to join but will get:\u001b[39;00m\n\u001b[0;32m   1076\u001b[0m \u001b[38;5;66;03m#     AssertionError: can only join a started process.\u001b[39;00m\n\u001b[1;32m-> 1077\u001b[0m \u001b[43mw\u001b[49m\u001b[38;5;241;43m.\u001b[39;49m\u001b[43mstart\u001b[49m\u001b[43m(\u001b[49m\u001b[43m)\u001b[49m\n\u001b[0;32m   1078\u001b[0m \u001b[38;5;28mself\u001b[39m\u001b[38;5;241m.\u001b[39m_index_queues\u001b[38;5;241m.\u001b[39mappend(index_queue)\n\u001b[0;32m   1079\u001b[0m \u001b[38;5;28mself\u001b[39m\u001b[38;5;241m.\u001b[39m_workers\u001b[38;5;241m.\u001b[39mappend(w)\n",
      "File \u001b[1;32mc:\\Users\\gon\\anaconda3\\envs\\py10_torch\\lib\\multiprocessing\\process.py:121\u001b[0m, in \u001b[0;36mBaseProcess.start\u001b[1;34m(self)\u001b[0m\n\u001b[0;32m    118\u001b[0m \u001b[38;5;28;01massert\u001b[39;00m \u001b[38;5;129;01mnot\u001b[39;00m _current_process\u001b[38;5;241m.\u001b[39m_config\u001b[38;5;241m.\u001b[39mget(\u001b[38;5;124m'\u001b[39m\u001b[38;5;124mdaemon\u001b[39m\u001b[38;5;124m'\u001b[39m), \\\n\u001b[0;32m    119\u001b[0m        \u001b[38;5;124m'\u001b[39m\u001b[38;5;124mdaemonic processes are not allowed to have children\u001b[39m\u001b[38;5;124m'\u001b[39m\n\u001b[0;32m    120\u001b[0m _cleanup()\n\u001b[1;32m--> 121\u001b[0m \u001b[38;5;28mself\u001b[39m\u001b[38;5;241m.\u001b[39m_popen \u001b[38;5;241m=\u001b[39m \u001b[38;5;28;43mself\u001b[39;49m\u001b[38;5;241;43m.\u001b[39;49m\u001b[43m_Popen\u001b[49m\u001b[43m(\u001b[49m\u001b[38;5;28;43mself\u001b[39;49m\u001b[43m)\u001b[49m\n\u001b[0;32m    122\u001b[0m \u001b[38;5;28mself\u001b[39m\u001b[38;5;241m.\u001b[39m_sentinel \u001b[38;5;241m=\u001b[39m \u001b[38;5;28mself\u001b[39m\u001b[38;5;241m.\u001b[39m_popen\u001b[38;5;241m.\u001b[39msentinel\n\u001b[0;32m    123\u001b[0m \u001b[38;5;66;03m# Avoid a refcycle if the target function holds an indirect\u001b[39;00m\n\u001b[0;32m    124\u001b[0m \u001b[38;5;66;03m# reference to the process object (see bpo-30775)\u001b[39;00m\n",
      "File \u001b[1;32mc:\\Users\\gon\\anaconda3\\envs\\py10_torch\\lib\\multiprocessing\\context.py:224\u001b[0m, in \u001b[0;36mProcess._Popen\u001b[1;34m(process_obj)\u001b[0m\n\u001b[0;32m    222\u001b[0m \u001b[38;5;129m@staticmethod\u001b[39m\n\u001b[0;32m    223\u001b[0m \u001b[38;5;28;01mdef\u001b[39;00m \u001b[38;5;21m_Popen\u001b[39m(process_obj):\n\u001b[1;32m--> 224\u001b[0m     \u001b[38;5;28;01mreturn\u001b[39;00m \u001b[43m_default_context\u001b[49m\u001b[38;5;241;43m.\u001b[39;49m\u001b[43mget_context\u001b[49m\u001b[43m(\u001b[49m\u001b[43m)\u001b[49m\u001b[38;5;241;43m.\u001b[39;49m\u001b[43mProcess\u001b[49m\u001b[38;5;241;43m.\u001b[39;49m\u001b[43m_Popen\u001b[49m\u001b[43m(\u001b[49m\u001b[43mprocess_obj\u001b[49m\u001b[43m)\u001b[49m\n",
      "File \u001b[1;32mc:\\Users\\gon\\anaconda3\\envs\\py10_torch\\lib\\multiprocessing\\context.py:327\u001b[0m, in \u001b[0;36mSpawnProcess._Popen\u001b[1;34m(process_obj)\u001b[0m\n\u001b[0;32m    324\u001b[0m \u001b[38;5;129m@staticmethod\u001b[39m\n\u001b[0;32m    325\u001b[0m \u001b[38;5;28;01mdef\u001b[39;00m \u001b[38;5;21m_Popen\u001b[39m(process_obj):\n\u001b[0;32m    326\u001b[0m     \u001b[38;5;28;01mfrom\u001b[39;00m \u001b[38;5;21;01m.\u001b[39;00m\u001b[38;5;21;01mpopen_spawn_win32\u001b[39;00m \u001b[38;5;28;01mimport\u001b[39;00m Popen\n\u001b[1;32m--> 327\u001b[0m     \u001b[38;5;28;01mreturn\u001b[39;00m \u001b[43mPopen\u001b[49m\u001b[43m(\u001b[49m\u001b[43mprocess_obj\u001b[49m\u001b[43m)\u001b[49m\n",
      "File \u001b[1;32mc:\\Users\\gon\\anaconda3\\envs\\py10_torch\\lib\\multiprocessing\\popen_spawn_win32.py:93\u001b[0m, in \u001b[0;36mPopen.__init__\u001b[1;34m(self, process_obj)\u001b[0m\n\u001b[0;32m     91\u001b[0m \u001b[38;5;28;01mtry\u001b[39;00m:\n\u001b[0;32m     92\u001b[0m     reduction\u001b[38;5;241m.\u001b[39mdump(prep_data, to_child)\n\u001b[1;32m---> 93\u001b[0m     \u001b[43mreduction\u001b[49m\u001b[38;5;241;43m.\u001b[39;49m\u001b[43mdump\u001b[49m\u001b[43m(\u001b[49m\u001b[43mprocess_obj\u001b[49m\u001b[43m,\u001b[49m\u001b[43m \u001b[49m\u001b[43mto_child\u001b[49m\u001b[43m)\u001b[49m\n\u001b[0;32m     94\u001b[0m \u001b[38;5;28;01mfinally\u001b[39;00m:\n\u001b[0;32m     95\u001b[0m     set_spawning_popen(\u001b[38;5;28;01mNone\u001b[39;00m)\n",
      "File \u001b[1;32mc:\\Users\\gon\\anaconda3\\envs\\py10_torch\\lib\\multiprocessing\\reduction.py:60\u001b[0m, in \u001b[0;36mdump\u001b[1;34m(obj, file, protocol)\u001b[0m\n\u001b[0;32m     58\u001b[0m \u001b[38;5;28;01mdef\u001b[39;00m \u001b[38;5;21mdump\u001b[39m(obj, file, protocol\u001b[38;5;241m=\u001b[39m\u001b[38;5;28;01mNone\u001b[39;00m):\n\u001b[0;32m     59\u001b[0m \u001b[38;5;250m    \u001b[39m\u001b[38;5;124;03m'''Replacement for pickle.dump() using ForkingPickler.'''\u001b[39;00m\n\u001b[1;32m---> 60\u001b[0m     \u001b[43mForkingPickler\u001b[49m\u001b[43m(\u001b[49m\u001b[43mfile\u001b[49m\u001b[43m,\u001b[49m\u001b[43m \u001b[49m\u001b[43mprotocol\u001b[49m\u001b[43m)\u001b[49m\u001b[38;5;241;43m.\u001b[39;49m\u001b[43mdump\u001b[49m\u001b[43m(\u001b[49m\u001b[43mobj\u001b[49m\u001b[43m)\u001b[49m\n",
      "\u001b[1;31mKeyboardInterrupt\u001b[0m: "
     ]
    }
   ],
   "source": [
    "from ultralytics import YOLO\n",
    "\n",
    "model = YOLO('yolov8n-seg.pt')\n",
    "\n",
    "model.train(\n",
    "    data='YOLODataset/dataset.yaml',  # 새 데이터셋 경로를 사용\n",
    "    epochs=80, \n",
    "    imgsz=640, \n",
    "    batch=44\n",
    "    )"
   ]
  },
  {
   "cell_type": "code",
   "execution_count": null,
   "metadata": {},
   "outputs": [],
   "source": []
  }
 ],
 "metadata": {
  "kernelspec": {
   "display_name": "dl_pjt",
   "language": "python",
   "name": "python3"
  },
  "language_info": {
   "codemirror_mode": {
    "name": "ipython",
    "version": 3
   },
   "file_extension": ".py",
   "mimetype": "text/x-python",
   "name": "python",
   "nbconvert_exporter": "python",
   "pygments_lexer": "ipython3",
   "version": "3.10.0"
  }
 },
 "nbformat": 4,
 "nbformat_minor": 2
}
